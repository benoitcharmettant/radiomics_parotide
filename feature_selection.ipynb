{
 "cells": [
  {
   "cell_type": "code",
   "execution_count": 11,
   "metadata": {},
   "outputs": [],
   "source": [
    "# Importing useful libraries\n",
    "\n",
    "from os.path import join\n",
    "\n",
    "import numpy as np\n",
    "import seaborn as sns\n",
    "import matplotlib.pyplot as plt\n",
    "import scipy as sp\n",
    "import pandas as pd\n",
    "\n",
    "from sklearn import metrics\n",
    "from sklearn.preprocessing import normalize, StandardScaler\n",
    "from sklearn.utils import shuffle\n",
    "\n",
    "from sklearn.feature_selection import RFE\n",
    "from sklearn.model_selection import LeaveOneOut\n",
    "\n",
    "\n",
    "from neurocombat_sklearn import CombatModel\n",
    "\n",
    "from sklearn.linear_model import LogisticRegression\n",
    "from sklearn.tree import DecisionTreeClassifier\n",
    "from sklearn.ensemble import RandomForestClassifier\n",
    "from sklearn.svm import SVC\n",
    "\n",
    "from tools import *\n",
    "\n",
    "# Defining local variables\n",
    "data_path = 'C:/Users/b_charmettant/data/parotide_ml/'"
   ]
  },
  {
   "cell_type": "code",
   "execution_count": 12,
   "metadata": {
    "scrolled": false
   },
   "outputs": [
    {
     "name": "stdout",
     "output_type": "stream",
     "text": [
      "107 with 432 features\n",
      "Labels : 58 benign lesions and 49 malignant\n",
      "Shape features : (107, 432)\n",
      "Shape meta variables : (107, 3)\n"
     ]
    }
   ],
   "source": [
    "df_meta = get_meta_data(data_path)\n",
    "\n",
    "ls_exams, id_to_feat, feat_to_id = load_features(df_meta, data_path, verbose=False, type_to_include=['t1', 't2', 'gado', 'diff'])\n",
    "\n",
    "\n",
    "features = []\n",
    "labels = []\n",
    "\n",
    "# Meta data fields to include in meta variables for harmonization\n",
    "\n",
    "meta_fields = ['sexe', 'tesla', 'age']\n",
    "meta_variables = []\n",
    "\n",
    "for exam in ls_exams:\n",
    "    lbl, ft, meta = format_exam(exam, feat_to_id, meta_fields=meta_fields)\n",
    "    features.append(ft)\n",
    "    labels.append(lbl)\n",
    "    meta_variables.append(meta)\n",
    "    \n",
    "features = np.array(features)\n",
    "labels = np.array(labels)\n",
    "meta_variables = np.array(meta_variables)\n",
    "\n",
    "print(f\"{len(labels)} with {len(features[0])} features\")\n",
    "print(f\"Labels : {len(labels) - sum(labels)} benign lesions and {sum(labels)} malignant\")\n",
    "\n",
    "# Adjusting the scales of the different features\n",
    "\n",
    "scaler = StandardScaler()\n",
    "rescaled_features = scaler.fit_transform(features)\n",
    "\n",
    "print(f\"Shape features : {rescaled_features.shape}\")\n",
    "print(f\"Shape meta variables : {meta_variables.shape}\")\n",
    "\n",
    "n_features = features.shape[1]\n",
    "n_exams = features.shape[0]\n",
    "\n",
    "features = rescaled_features"
   ]
  },
  {
   "cell_type": "code",
   "execution_count": 13,
   "metadata": {},
   "outputs": [
    {
     "name": "stdout",
     "output_type": "stream",
     "text": [
      "Extracting a subset of values\n",
      "Shape features (train): (90, 432)\n",
      "Shape features (test): (17, 432)\n"
     ]
    }
   ],
   "source": [
    "### To test feature extraction on a subset of values\n",
    "print(\"Extracting a subset of values\")\n",
    "features, labels, meta_variables = shuffle(features, labels, meta_variables, random_state=43)\n",
    "\n",
    "split_id = 90\n",
    "\n",
    "train_features = features[:split_id]\n",
    "train_labels = labels[:split_id]\n",
    "train_meta = meta_variables[:split_id]\n",
    "\n",
    "test_features = features[split_id:]\n",
    "test_labels = labels[split_id:]\n",
    "test_meta = meta_variables[split_id: ]\n",
    "\n",
    "print(f\"Shape features (train): {train_features.shape}\")\n",
    "print(f\"Shape features (test): {test_features.shape}\")"
   ]
  },
  {
   "cell_type": "code",
   "execution_count": 14,
   "metadata": {},
   "outputs": [],
   "source": [
    "# Feature harmonization using ComBat\n",
    "\n",
    "harmonization = CombatModel()\n",
    "\n",
    "train_features = harmonization.fit_transform(train_features,\n",
    "                                     train_meta[:, 1].reshape(-1,1),\n",
    "                                     train_meta[:, 0].reshape(-1,1),\n",
    "                                     train_meta[:, 2].reshape(-1,1))\n",
    "\n",
    "if len(test_features) > 0:\n",
    "    test_features = harmonization.transform(test_features,\n",
    "                                    test_meta[:, 1].reshape(-1,1),\n",
    "                                    test_meta[:, 0].reshape(-1,1),\n",
    "                                    test_meta[:, 2].reshape(-1,1))"
   ]
  },
  {
   "cell_type": "code",
   "execution_count": 15,
   "metadata": {
    "scrolled": true
   },
   "outputs": [],
   "source": [
    "# Statistical analysis of the different features\n",
    "\n",
    "feature_significance_p = feature_t_test(train_features, train_labels, id_to_feat)\n",
    "feature_significance_auc = feature_auc(train_features, train_labels, id_to_feat, LogisticRegression(penalty='none'))"
   ]
  },
  {
   "cell_type": "code",
   "execution_count": 16,
   "metadata": {},
   "outputs": [],
   "source": [
    "# Selection of significant features\n",
    "\n",
    "n_new_features = 5\n",
    "# Based on statistical values\n",
    "\n",
    "selection_p_value = choose_features_from_dict(feature_significance_p, n_new_features, feat_to_id)\n",
    "\n",
    "# Based on RFE algorithm\n",
    "\n",
    "estimator = LogisticRegression(penalty='l1', solver='liblinear', C=1)\n",
    "selector = RFE(estimator, 15, step=1).fit(train_features, train_labels)\n",
    "selection_rfe = np.where(selector.support_.astype(int) > 0)[0]\n",
    "\n",
    "# We choose to use rfe\n",
    "\n",
    "selected_features_id = selection_rfe"
   ]
  },
  {
   "cell_type": "code",
   "execution_count": 17,
   "metadata": {},
   "outputs": [
    {
     "name": "stdout",
     "output_type": "stream",
     "text": [
      "<--------->                  Features selected                  <---------> \n",
      "( 0) t1_OriginalShapeVolume                   - Auc: 0.597 - p-value: 0.046\n",
      "( 1) t1_OriginalShapeCompactness2             - Auc: 0.628 - p-value: 0.012\n",
      "( 2) t1_OriginalGrayLevelCo-occurrenceMatrixC - Auc: 0.497 - p-value: 0.570\n",
      "( 3) t1_OriginalGrayLevelSizeZoneMatrixGrayLe - Auc: 0.521 - p-value: 0.518\n",
      "( 4) t1_OriginalNeighboringGrayToneDifference - Auc: 0.557 - p-value: 0.136\n",
      "( 5) t2_OriginalFirstOrderMinimum             - Auc: 0.535 - p-value: 0.941\n",
      "( 6) t2_OriginalGrayLevelCo-occurrenceMatrixC - Auc: 0.623 - p-value: 0.013\n",
      "( 7) gado_OriginalGrayLevelCo-occurrenceMatri - Auc: 0.554 - p-value: 0.252\n",
      "( 8) gado_OriginalGrayLevelDependenceMatrixLa - Auc: 0.568 - p-value: 0.092\n",
      "( 9) diff_OriginalShapeElongation             - Auc: 0.595 - p-value: 0.096\n",
      "(10) diff_OriginalShapeFlatness               - Auc: 0.568 - p-value: 0.460\n",
      "(11) diff_OriginalGrayLevelCo-occurrenceMatri - Auc: 0.535 - p-value: 0.651\n",
      "(12) diff_OriginalGrayLevelSizeZoneMatrixSize - Auc: 0.607 - p-value: 0.294\n",
      "(13) diff_OriginalNeighboringGrayToneDifferen - Auc: 0.576 - p-value: 0.770\n",
      "(14) diff_OriginalGrayLevelDependenceMatrixLa - Auc: 0.589 - p-value: 0.163\n"
     ]
    }
   ],
   "source": [
    "print(\"<--------->  {:^49}  <---------> \".format('Features selected'))\n",
    "for i, id_feature in enumerate(selected_features_id):\n",
    "    feature_name = id_to_feat[id_feature]\n",
    "\n",
    "    print(\"({:2}) {:40.40} - Auc: {:.3f} - p-value: {:.3f}\".format(i, \n",
    "                                                                   feature_name, feature_significance_auc[feature_name], \n",
    "                                                                   feature_significance_p[feature_name]))"
   ]
  },
  {
   "cell_type": "code",
   "execution_count": 18,
   "metadata": {},
   "outputs": [
    {
     "data": {
      "image/png": "[encoded data removed]",
      "text/plain": [
       "<Figure size 432x288 with 2 Axes>"
      ]
     },
     "metadata": {
      "needs_background": "light"
     },
     "output_type": "display_data"
    }
   ],
   "source": [
    "df_features = pd.DataFrame(features[:, selected_features_id])\n",
    "cor = df_features.corr()\n",
    "    \n",
    "sns.heatmap(cor, cmap='coolwarm')\n",
    "plt.show()"
   ]
  },
  {
   "cell_type": "code",
   "execution_count": 19,
   "metadata": {},
   "outputs": [
    {
     "name": "stdout",
     "output_type": "stream",
     "text": [
      "Shape features (train): (90, 15)\n",
      "Shape features (test): (17, 15)\n"
     ]
    }
   ],
   "source": [
    "train_features_s = train_features[:, selected_features_id]\n",
    "test_features_s = test_features[:, selected_features_id]\n",
    "\n",
    "print(f\"Shape features (train): {train_features_s.shape}\")\n",
    "print(f\"Shape features (test): {test_features_s.shape}\")"
   ]
  },
  {
   "cell_type": "code",
   "execution_count": 20,
   "metadata": {},
   "outputs": [],
   "source": [
    "# Final model classification\n",
    "\n",
    "# clf = RandomForestClassifier(n_estimators=100, verbose=0)\n",
    "# clf = SVC(C=1, probability=True, kernel='poly')\n",
    "clf = LogisticRegression(penalty='l1', solver='liblinear', C=1)\n",
    "# clf = DecisionTreeClassifier()\n",
    "\n",
    "\n",
    "# Prediction using leave one out\n",
    "\n",
    "loo = LeaveOneOut()\n",
    "\n",
    "loo_predictions = []\n",
    "loo_labels = []\n",
    "\n",
    "X = train_features_s\n",
    "y = train_labels\n",
    "\n",
    "for train_index, test_index in loo.split(train_features_s):\n",
    "    \n",
    "    X_train, X_test = X[train_index], X[test_index]\n",
    "    y_train, y_test = y[train_index], y[test_index]\n",
    "    \n",
    "    clf.fit(X_train, y_train)\n",
    "    \n",
    "    pred = clf.predict_proba(X_test)[0, 1]\n",
    "\n",
    "    \n",
    "    loo_predictions.append(pred)\n",
    "    loo_labels.append(y_test)"
   ]
  },
  {
   "cell_type": "code",
   "execution_count": 21,
   "metadata": {},
   "outputs": [
    {
     "data": {
      "image/png": "[encoded data removed]",
      "text/plain": [
       "<Figure size 936x360 with 2 Axes>"
      ]
     },
     "metadata": {
      "needs_background": "light"
     },
     "output_type": "display_data"
    }
   ],
   "source": [
    "plt.rcParams['figure.figsize'] = (13, 5)\n",
    "\n",
    "# Calculating AUC\n",
    "fpr, tpr, _ = metrics.roc_curve(loo_labels,  loo_predictions)\n",
    "auc = metrics.roc_auc_score(loo_labels, loo_predictions)\n",
    "\n",
    "plt.subplot(1,2,1)\n",
    "plt.title(\"LOO Cross Validation AUC : {:.3f}\".format(auc))\n",
    "plt.plot(fpr,tpr)\n",
    "plt.plot(fpr, fpr)\n",
    "\n",
    "if len(test_features_s) >= 10:\n",
    "    \n",
    "    test_predictions = np.zeros(len(test_features_s))\n",
    "    \n",
    "    for i in range(len(test_features_s)):\n",
    "        \n",
    "        X = train_features_s\n",
    "        y = train_labels\n",
    "        \n",
    "        ids_to_add = list(range(len(test_features_s)))\n",
    "        \n",
    "        ids_to_add.remove(i)\n",
    "        \n",
    "        X = np.append(X, test_features_s[ids_to_add], axis=0)\n",
    "        \n",
    "        y = np.append(y, test_labels[ids_to_add])\n",
    "        \n",
    "        clf.fit(X, y)\n",
    "        \n",
    "        test_predictions[i] = clf.predict_proba(test_features_s)[i, 1]\n",
    "    \n",
    "    # Calculating AUC\n",
    "    fpr, tpr, _ = metrics.roc_curve(test_labels,  test_predictions)\n",
    "    auc = metrics.roc_auc_score(test_labels,  test_predictions)\n",
    "\n",
    "    plt.subplot(1,2,2)\n",
    "    plt.title(\"Test AUC : {:.3f}\".format(auc))\n",
    "    plt.plot(fpr,tpr)\n",
    "    plt.plot(fpr, fpr)"
   ]
  },
  {
   "cell_type": "code",
   "execution_count": 22,
   "metadata": {},
   "outputs": [
    {
     "name": "stdout",
     "output_type": "stream",
     "text": [
      "[[ 1.03226292 -1.45619015  0.70816724  0.64515621 -0.76616163  0.47315144\n",
      "   0.27911732  0.29424722  0.4970604   0.14224964  0.98643193 -0.6585338\n",
      "  -0.55295225  0.54996167 -0.89371845]]\n"
     ]
    }
   ],
   "source": [
    "print(clf.coef_)\n",
    "# print(clf.classes_)\n",
    "\n",
    "# print(clf.score(X_train, y_train))\n",
    "# print(clf.score(X_test, y_test))"
   ]
  },
  {
   "cell_type": "raw",
   "metadata": {},
   "source": []
  },
  {
   "cell_type": "code",
   "execution_count": null,
   "metadata": {},
   "outputs": [],
   "source": []
  },
  {
   "cell_type": "code",
   "execution_count": null,
   "metadata": {},
   "outputs": [],
   "source": []
  }
 ],
 "metadata": {
  "kernelspec": {
   "display_name": "Python 3",
   "language": "python",
   "name": "python3"
  },
  "language_info": {
   "codemirror_mode": {
    "name": "ipython",
    "version": 3
   },
   "file_extension": ".py",
   "mimetype": "text/x-python",
   "name": "python",
   "nbconvert_exporter": "python",
   "pygments_lexer": "ipython3",
   "version": "3.7.6"
  }
 },
 "nbformat": 4,
 "nbformat_minor": 4
}
