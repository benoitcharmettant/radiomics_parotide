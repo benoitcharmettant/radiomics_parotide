{
 "cells": [
  {
   "cell_type": "code",
   "execution_count": 1,
   "metadata": {
    "pycharm": {
     "is_executing": false
    }
   },
   "outputs": [],
   "source": [
    "# Importing useful libraries\n",
    "\n",
    "from os.path import join\n",
    "\n",
    "from pandas import read_csv, DataFrame\n",
    "\n",
    "import numpy as np\n",
    "import seaborn as sns\n",
    "import matplotlib.pyplot as plt\n",
    "\n",
    "from sklearn import metrics\n",
    "from sklearn.preprocessing import normalize, StandardScaler\n",
    "from sklearn.decomposition import PCA\n",
    "from sklearn.cluster import FeatureAgglomeration\n",
    "from sklearn.ensemble import RandomForestClassifier\n",
    "from sklearn.model_selection import train_test_split\n",
    "from sklearn.svm import SVC, LinearSVC\n",
    "from sklearn.tree import DecisionTreeClassifier\n",
    "from anonymization_tools import get_date_exam\n",
    "\n",
    "# Defining local variables\n",
    "data_path = 'C:/Users/b_charmettant/data/parotide_ml/'\n"
   ]
  },
  {
   "cell_type": "code",
   "execution_count": 2,
   "metadata": {
    "pycharm": {
     "is_executing": false,
     "name": "#%%\n"
    }
   },
   "outputs": [],
   "source": [
    "# Defining tools function\n",
    "\n",
    "def get_feature_importance(feature_importance, id_to_key, subset_dict=None):\n",
    "    non_zero_id = np.nonzero(feature_importance)\n",
    "    \n",
    "    feature_importance_dict = {}\n",
    "    \n",
    "    for i in non_zero_id[0]:\n",
    "        if subset_dict is None:\n",
    "            feature_importance_dict[id_to_key[i]] = feature_importance[i]\n",
    "        else:\n",
    "            feature_importance_dict[id_to_key[subset_dict[i]]] = feature_importance[i]\n",
    "            \n",
    "    \n",
    "    # sorting the dict by decreasing feature importance\n",
    "    feature_importance_dict = order_dict(feature_importance_dict)\n",
    "        \n",
    "    return feature_importance_dict\n",
    "\n",
    "def get_feature_subset(id_to_key, subset):\n",
    "\n",
    "    subset_ids = np.random.choice(len(id_to_key), subset)\n",
    "    \n",
    "    subset_dict = dict(zip(range(subset), subset_ids))\n",
    "    \n",
    "    return subset_ids, subset_dict\n",
    "    \n",
    "    \n",
    "\n",
    "def bootstrap_feature_selection(features, labels, cls, id_to_key, nb_try=100, subset=None, auc=True):\n",
    "      \n",
    "    overall_importance = dict(zip(key_to_id.keys(), np.zeros(len(key_to_id))))\n",
    "    avg_w = 0\n",
    "    \n",
    "    n_skipped = 0\n",
    "    \n",
    "    for _ in range(nb_try):\n",
    "        x_train, x_test, y_train, y_test = train_test_split(features, labels, test_size=0.15)\n",
    "        \n",
    "        if auc and (sum(y_test) == 0 or sum(y_test) == len(y_test)):\n",
    "            n_skipped += 1\n",
    "            continue\n",
    "        \n",
    "        subset_dict = None\n",
    "        if subset is not None:\n",
    "            feature_subset, subset_dict = get_feature_subset(id_to_key, subset)\n",
    "            # print(subset_dict)\n",
    "            \n",
    "            x_train = x_train[:, feature_subset]\n",
    "            x_test = x_test[:, feature_subset]\n",
    "            \n",
    "\n",
    "        \n",
    "        clf.fit(x_train, y_train)\n",
    "        predictions_test = np.array(clf.predict_proba(x_test))[:,1]\n",
    "        \n",
    "        ft_importance = get_feature_importance(clf.feature_importances_, id_to_key, subset_dict=subset_dict)\n",
    "        # print(ft_importance)\n",
    "        \n",
    "        if auc:\n",
    "            w = (metrics.roc_auc_score(y_test, predictions_test) - 0.5)*2\n",
    "        else:\n",
    "            w = 1 - np.linalg.norm(y_test - predictions_test)/np.sqrt(len(y_test))\n",
    "        \n",
    "        for k,v in ft_importance.items():\n",
    "            overall_importance[k] += v * w\n",
    "           \n",
    "        avg_w += w/nb_try\n",
    "        \n",
    "    print(f'Average weight {avg_w}')\n",
    "    print(f\"Number of round skipped : {n_skipped}\")\n",
    "        \n",
    "    return order_dict(overall_importance)\n",
    "\n",
    "def get_threshold(values, percentile=0.75):\n",
    "    plt.plot( range(len(values)), values)\n",
    "    plt.show()\n",
    "    return np.percentile(values, percentile)\n",
    "    \n",
    "    "
   ]
  },
  {
   "cell_type": "code",
   "execution_count": 3,
   "metadata": {
    "pycharm": {
     "is_executing": false,
     "name": "#%%\n"
    }
   },
   "outputs": [
    {
     "data": {
      "text/html": [
       "<div>\n",
       "<style scoped>\n",
       "    .dataframe tbody tr th:only-of-type {\n",
       "        vertical-align: middle;\n",
       "    }\n",
       "\n",
       "    .dataframe tbody tr th {\n",
       "        vertical-align: top;\n",
       "    }\n",
       "\n",
       "    .dataframe thead th {\n",
       "        text-align: right;\n",
       "    }\n",
       "</style>\n",
       "<table border=\"1\" class=\"dataframe\">\n",
       "  <thead>\n",
       "    <tr style=\"text-align: right;\">\n",
       "      <th></th>\n",
       "      <th>id</th>\n",
       "      <th>sexe</th>\n",
       "      <th>age</th>\n",
       "      <th>type_irm</th>\n",
       "      <th>classe</th>\n",
       "      <th>malin</th>\n",
       "    </tr>\n",
       "  </thead>\n",
       "  <tbody>\n",
       "    <tr>\n",
       "      <th>0</th>\n",
       "      <td>parotide_1</td>\n",
       "      <td>0</td>\n",
       "      <td>79.0</td>\n",
       "      <td>1.0</td>\n",
       "      <td>2</td>\n",
       "      <td>0</td>\n",
       "    </tr>\n",
       "    <tr>\n",
       "      <th>1</th>\n",
       "      <td>parotide_2</td>\n",
       "      <td>1</td>\n",
       "      <td>87.0</td>\n",
       "      <td>3.0</td>\n",
       "      <td>1</td>\n",
       "      <td>0</td>\n",
       "    </tr>\n",
       "    <tr>\n",
       "      <th>2</th>\n",
       "      <td>parotide_3</td>\n",
       "      <td>0</td>\n",
       "      <td>29.0</td>\n",
       "      <td>3.0</td>\n",
       "      <td>1</td>\n",
       "      <td>0</td>\n",
       "    </tr>\n",
       "    <tr>\n",
       "      <th>3</th>\n",
       "      <td>parotide_4</td>\n",
       "      <td>1</td>\n",
       "      <td>34.0</td>\n",
       "      <td>3.0</td>\n",
       "      <td>1</td>\n",
       "      <td>0</td>\n",
       "    </tr>\n",
       "    <tr>\n",
       "      <th>4</th>\n",
       "      <td>parotide_5</td>\n",
       "      <td>1</td>\n",
       "      <td>68.0</td>\n",
       "      <td>1.0</td>\n",
       "      <td>4</td>\n",
       "      <td>1</td>\n",
       "    </tr>\n",
       "  </tbody>\n",
       "</table>\n",
       "</div>"
      ],
      "text/plain": [
       "           id sexe   age  type_irm  classe  malin\n",
       "0  parotide_1    0  79.0       1.0       2      0\n",
       "1  parotide_2    1  87.0       3.0       1      0\n",
       "2  parotide_3    0  29.0       3.0       1      0\n",
       "3  parotide_4    1  34.0       3.0       1      0\n",
       "4  parotide_5    1  68.0       1.0       4      1"
      ]
     },
     "execution_count": 3,
     "metadata": {},
     "output_type": "execute_result"
    }
   ],
   "source": [
    "df_meta = get_meta_data(data_path)\n",
    "df_meta.head()\n",
    "\n",
    "# TODO: insert here a description of the dataframe (nb_classes, repartition among classes etc...)"
   ]
  },
  {
   "cell_type": "code",
   "execution_count": 4,
   "metadata": {
    "pycharm": {
     "is_executing": false,
     "name": "#%%\n"
    }
   },
   "outputs": [],
   "source": [
    "ls_exams, id_to_key, key_to_id = load_features(df_meta, data_path, verbose=False, type_to_include=['t1', 't2', 'gado', 'diff'])\n",
    "\n",
    "features = []\n",
    "labels = []\n",
    "\n",
    "for exam in ls_exams:\n",
    "    lbl, ft = format_exam(exam, key_to_id)\n",
    "    features.append(ft)\n",
    "    labels.append(lbl)"
   ]
  },
  {
   "cell_type": "code",
   "execution_count": null,
   "metadata": {},
   "outputs": [],
   "source": []
  },
  {
   "cell_type": "code",
   "execution_count": 5,
   "metadata": {
    "pycharm": {
     "is_executing": false,
     "name": "#%%\n"
    }
   },
   "outputs": [
    {
     "name": "stdout",
     "output_type": "stream",
     "text": [
      "104 with 432 features\n",
      "Labels : 57 benign lesions and 47 malignant\n"
     ]
    }
   ],
   "source": [
    "features = np.array(features)\n",
    "labels = np.array(labels)\n",
    "\n",
    "print(f\"{len(labels)} with {len(features[0])} features\")\n",
    "print(f\"Labels : {len(labels) - sum(labels)} benign lesions and {sum(labels)} malignant\")\n",
    "\n",
    "scaler = StandardScaler()\n",
    "rescaled_features = scaler.fit_transform(features)"
   ]
  },
  {
   "cell_type": "code",
   "execution_count": 6,
   "metadata": {
    "pycharm": {
     "is_executing": false,
     "name": "#%%\n"
    }
   },
   "outputs": [
    {
     "name": "stdout",
     "output_type": "stream",
     "text": [
      "Training : 78 samples - Testing : 26 samples.\n"
     ]
    }
   ],
   "source": [
    "# Split between test and train set\n",
    "x_train, x_test, y_train, y_test = train_test_split(rescaled_features, labels, test_size=0.25)\n",
    "print(f\"Training : {len(x_train)} samples - Testing : {len(x_test)} samples.\")"
   ]
  },
  {
   "cell_type": "code",
   "execution_count": 7,
   "metadata": {
    "pycharm": {
     "is_executing": false,
     "name": "#%%\n"
    },
    "scrolled": false
   },
   "outputs": [
    {
     "name": "stdout",
     "output_type": "stream",
     "text": [
      "Average weight 0.016604608585858594\n",
      "Number of round skipped : 0\n"
     ]
    }
   ],
   "source": [
    "# Dimensionality reduction\n",
    "clf = RandomForestClassifier(n_estimators=100, verbose=0, max_features=5, max_depth=None)\n",
    "feature_importance = bootstrap_feature_selection(x_train, y_train, clf, id_to_key, nb_try=1000, subset=50, auc=True)"
   ]
  },
  {
   "cell_type": "code",
   "execution_count": 8,
   "metadata": {},
   "outputs": [
    {
     "data": {
      "image/png": "[encoded data removed]",
      "text/plain": [
       "<Figure size 432x288 with 1 Axes>"
      ]
     },
     "metadata": {
      "needs_background": "light"
     },
     "output_type": "display_data"
    },
    {
     "name": "stdout",
     "output_type": "stream",
     "text": [
      "1 - t1_OriginalShapeCompactness2 - 0.5569223370415198\n",
      "2 - t1_OriginalShapeCompactness1 - 0.4658434267944902\n",
      "3 - t2_OriginalFirstOrderRange - 0.37003799757528033\n",
      "4 - t1_OriginalShapeSphericity - 0.28542098340775346\n",
      "5 - gado_OriginalGrayLevelRunLengthMatrixLongRunHighGrayLevelEmphasis - 0.24741908422525002\n",
      "6 - t1_OriginalGrayLevelRunLengthMatrixLongRunLowGrayLevelEmphasis - 0.23612759262976896\n",
      "7 - t2_OriginalGrayLevelDependenceMatrixDependenceVariance - 0.21566602724549014\n",
      "8 - t2_OriginalFirstOrderMean - 0.20832052221419642\n",
      "9 - gado_OriginalGrayLevelCo-occurrenceMatrixInformalMeasureofCorrelation2 - 0.20049492721941434\n",
      "10 - t1_OriginalGrayLevelRunLengthMatrixLowGrayLevelRunEmphasis - 0.20042645524545\n"
     ]
    }
   ],
   "source": [
    "significant_features = []\n",
    "\n",
    "threshold = get_threshold(list(feature_importance.values()), percentile=90)\n",
    "\n",
    "c = 0\n",
    "\n",
    "for key in feature_importance.keys():\n",
    "    if feature_importance[key] > threshold:\n",
    "        significant_features.append(key_to_id[key])\n",
    "        \n",
    "        if c < 10:\n",
    "            c+=1\n",
    "            print(f\"{c} - {key} - {feature_importance[key]}\")\n",
    "\n",
    "significant_features_dict = dict(zip(range(len(significant_features)), significant_features))\n",
    "        \n",
    "new_features = rescaled_features[:, significant_features]\n",
    "\n",
    "x_train = x_train[:, significant_features]\n",
    "x_test = x_test[:, significant_features]"
   ]
  },
  {
   "cell_type": "code",
   "execution_count": 9,
   "metadata": {
    "pycharm": {
     "is_executing": false,
     "name": "#%%\n"
    }
   },
   "outputs": [
    {
     "data": {
      "image/png": "[encoded data removed]",
      "text/plain": [
       "<Figure size 432x288 with 2 Axes>"
      ]
     },
     "metadata": {
      "needs_background": "light"
     },
     "output_type": "display_data"
    }
   ],
   "source": [
    "df_features = DataFrame(new_features)\n",
    "cor = df_features.corr()\n",
    "    \n",
    "sns.heatmap(cor, cmap='coolwarm')\n",
    "plt.show()"
   ]
  },
  {
   "cell_type": "code",
   "execution_count": 10,
   "metadata": {
    "pycharm": {
     "is_executing": false,
     "name": "#%%\n"
    }
   },
   "outputs": [
    {
     "data": {
      "text/plain": [
       "RandomForestClassifier(bootstrap=True, ccp_alpha=0.0, class_weight=None,\n",
       "                       criterion='gini', max_depth=None, max_features=3,\n",
       "                       max_leaf_nodes=None, max_samples=None,\n",
       "                       min_impurity_decrease=0.0, min_impurity_split=None,\n",
       "                       min_samples_leaf=1, min_samples_split=2,\n",
       "                       min_weight_fraction_leaf=0.0, n_estimators=3,\n",
       "                       n_jobs=None, oob_score=False, random_state=None,\n",
       "                       verbose=0, warm_start=False)"
      ]
     },
     "execution_count": 10,
     "metadata": {},
     "output_type": "execute_result"
    }
   ],
   "source": [
    "clf = RandomForestClassifier(n_estimators=3, verbose=0, max_features=3, max_depth=None)\n",
    "# clf = SVC(C=2, probability=True)\n",
    "# clf = LinearSVC(penalty=\"l1\", C=1)\n",
    "# clf = DecisionTreeClassifier()\n",
    "clf.fit(x_train, y_train)"
   ]
  },
  {
   "cell_type": "code",
   "execution_count": 11,
   "metadata": {
    "pycharm": {
     "is_executing": false,
     "name": "#%%\n"
    }
   },
   "outputs": [],
   "source": [
    "predictions_train = np.array(clf.predict_proba(x_train))[:,1]\n",
    "predictions_test = np.array(clf.predict_proba(x_test))[:,1]"
   ]
  },
  {
   "cell_type": "code",
   "execution_count": 12,
   "metadata": {
    "scrolled": false
   },
   "outputs": [],
   "source": [
    "# get_feature_importance(clf.feature_importances_, id_to_key)"
   ]
  },
  {
   "cell_type": "code",
   "execution_count": 13,
   "metadata": {
    "pycharm": {
     "is_executing": false,
     "name": "#%%\n"
    }
   },
   "outputs": [
    {
     "data": {
      "image/png": "[encoded data removed]",
      "text/plain": [
       "<Figure size 1224x360 with 2 Axes>"
      ]
     },
     "metadata": {
      "needs_background": "light"
     },
     "output_type": "display_data"
    }
   ],
   "source": [
    "plt.rcParams['figure.figsize'] = (17, 5)\n",
    "\n",
    "# Calculating AUC\n",
    "fpr, tpr, _ = metrics.roc_curve(y_test,  predictions_test)\n",
    "auc = metrics.roc_auc_score(y_test, predictions_test)\n",
    "\n",
    "plt.subplot(1,2,1)\n",
    "plt.title(\"Test AUC : {:.3f}\".format(auc))\n",
    "plt.plot(fpr,tpr)\n",
    "plt.plot(fpr, fpr)\n",
    "\n",
    "fpr, tpr, _ = metrics.roc_curve(y_train,  predictions_train)\n",
    "auc = metrics.roc_auc_score(y_train, predictions_train)\n",
    "plt.subplot(1,2,2)\n",
    "plt.title(\"Train AUC : {:.3f}\".format(auc))\n",
    "plt.plot(fpr,tpr)\n",
    "plt.plot(fpr, fpr)\n",
    "plt.show()"
   ]
  },
  {
   "cell_type": "code",
   "execution_count": 14,
   "metadata": {
    "scrolled": false
   },
   "outputs": [
    {
     "data": {
      "text/plain": [
       "{'t1_OriginalFirstOrderMedian': 0.09964144004354292,\n",
       " 'gado_OriginalFirstOrderTotalEnergy': 0.09128531847521618,\n",
       " 'diff_OriginalFirstOrderMedian': 0.08924800559751783,\n",
       " 'gado_OriginalGrayLevelCo-occurrenceMatrixInformalMeasureofCorrelation2': 0.07731957066021541,\n",
       " 't1_OriginalShapeSphericalDisproportion': 0.0687749315278128,\n",
       " 'gado_OriginalGrayLevelCo-occurrenceMatrixSumAverage': 0.06767962983827439,\n",
       " 't1_OriginalGrayLevelRunLengthMatrixGrayLevelVariance': 0.052000041407076154,\n",
       " 't2_OriginalGrayLevelCo-occurrenceMatrixClusterShade': 0.04453655921637821,\n",
       " 'diff_OriginalFirstOrderRange': 0.043960028559759064,\n",
       " 'gado_OriginalNeighboringGrayToneDifferenceMatrixContrast': 0.039117560604488705,\n",
       " 't1_OriginalGrayLevelCo-occurrenceMatrixSumEntropy': 0.036782389723566206,\n",
       " 't1_OriginalGrayLevelCo-occurrenceMatrixSumofSquares': 0.03408246014455166,\n",
       " 't1_OriginalGrayLevelRunLengthMatrixLongRunLowGrayLevelEmphasis': 0.03385077276524645,\n",
       " 't1_OriginalShapeCompactness1': 0.033163265306122444,\n",
       " 't2_OriginalFirstOrderMean': 0.026618834668370298,\n",
       " 't1_OriginalShapeCompactness2': 0.02321428571428572,\n",
       " 'diff_OriginalGrayLevelDependenceMatrixLargeDependenceHighGrayLevelEmphasis': 0.02312502388869778,\n",
       " 't1_OriginalGrayLevelCo-occurrenceMatrixJointEnergy': 0.02309210526315789,\n",
       " 'gado_OriginalGrayLevelCo-occurrenceMatrixJointAverage': 0.022115895800106325,\n",
       " 't1_OriginalGrayLevelRunLengthMatrixGrayLevelNonUniformityNormalized': 0.018881626724763984,\n",
       " 't1_OriginalGrayLevelRunLengthMatrixLowGrayLevelRunEmphasis': 0.015204678362573098,\n",
       " 't2_OriginalShapeSphericity': 0.008063909774436101,\n",
       " 't1_OriginalGrayLevelCo-occurrenceMatrixDifferenceEntropy': 0.007692843219159019,\n",
       " 't2_OriginalGrayLevelDependenceMatrixDependenceVariance': 0.0068421052631579,\n",
       " 't2_OriginalShapeVolume': 0.006414473684210527,\n",
       " 'gado_OriginalGrayLevelDependenceMatrixSmallDependenceHighGrayLevelEmphasis': 0.0047264542936288146,\n",
       " 't1_OriginalGrayLevelDependenceMatrixLowGrayLevelEmphasis': 0.0025657894736842092}"
      ]
     },
     "execution_count": 14,
     "metadata": {},
     "output_type": "execute_result"
    }
   ],
   "source": [
    "get_feature_importance(clf.feature_importances_, id_to_key, subset_dict=significant_features_dict)"
   ]
  },
  {
   "cell_type": "code",
   "execution_count": null,
   "metadata": {
    "scrolled": false
   },
   "outputs": [],
   "source": []
  },
  {
   "cell_type": "markdown",
   "metadata": {},
   "source": [
    " "
   ]
  }
 ],
 "metadata": {
  "kernelspec": {
   "display_name": "Python 3",
   "language": "python",
   "name": "python3"
  },
  "language_info": {
   "codemirror_mode": {
    "name": "ipython",
    "version": 3
   },
   "file_extension": ".py",
   "mimetype": "text/x-python",
   "name": "python",
   "nbconvert_exporter": "python",
   "pygments_lexer": "ipython3",
   "version": "3.7.6"
  },
  "pycharm": {
   "stem_cell": {
    "cell_type": "raw",
    "metadata": {
     "collapsed": false
    },
    "source": []
   }
  }
 },
 "nbformat": 4,
 "nbformat_minor": 1
}
